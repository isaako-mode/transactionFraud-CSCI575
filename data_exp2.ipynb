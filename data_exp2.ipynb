{
 "cells": [
  {
   "cell_type": "code",
   "execution_count": 1,
   "id": "8604e19f-afed-4e96-826d-4e42447a3ceb",
   "metadata": {},
   "outputs": [],
   "source": [
    "import numpy as np\n",
    "import pandas as pd\n",
    "import matplotlib.pyplot as plt\n",
    "from pandasql import sqldf"
   ]
  },
  {
   "cell_type": "code",
   "execution_count": 2,
   "id": "7ac3ca35-5b00-4426-a3e5-8f3505cb7911",
   "metadata": {},
   "outputs": [
    {
     "name": "stdout",
     "output_type": "stream",
     "text": [
      "An error occurred: Invalid URL 'kaggle datasets download -d nelgiriyewithana/global-youtube-statistics-2023': No scheme supplied. Perhaps you meant https://kaggle datasets download -d nelgiriyewithana/global-youtube-statistics-2023?\n"
     ]
    }
   ],
   "source": [
    "import requests\n",
    "\n",
    "def get_data_from_api():\n",
    "    api_url = \"kaggle datasets download -d nelgiriyewithana/global-youtube-statistics-2023\"\n",
    "\n",
    "    try:\n",
    "        response = requests.get(api_url)\n",
    "\n",
    "        # Check if the request was successful (status code 200)\n",
    "        if response.status_code == 200:\n",
    "            # Parse the JSON data\n",
    "            data = response.json()\n",
    "            return data\n",
    "        else:\n",
    "            print(f\"Error: Unable to fetch data. Status code: {response.status_code}\")\n",
    "            return None\n",
    "\n",
    "    except Exception as e:\n",
    "        print(f\"An error occurred: {e}\")\n",
    "        return None\n",
    "\n",
    "# Example usage\n",
    "api_data = get_data_from_api()\n"
   ]
  },
  {
   "cell_type": "code",
   "execution_count": null,
   "id": "8bb350bd-132a-4c06-94df-baf9320d3c09",
   "metadata": {},
   "outputs": [],
   "source": []
  }
 ],
 "metadata": {
  "kernelspec": {
   "display_name": "Python 3 (ipykernel)",
   "language": "python",
   "name": "python3"
  },
  "language_info": {
   "codemirror_mode": {
    "name": "ipython",
    "version": 3
   },
   "file_extension": ".py",
   "mimetype": "text/x-python",
   "name": "python",
   "nbconvert_exporter": "python",
   "pygments_lexer": "ipython3",
   "version": "3.9.5"
  }
 },
 "nbformat": 4,
 "nbformat_minor": 5
}
